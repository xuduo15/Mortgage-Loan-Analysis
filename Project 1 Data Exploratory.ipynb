{
 "cells": [
  {
   "cell_type": "code",
   "execution_count": 26,
   "metadata": {},
   "outputs": [],
   "source": [
    "import pandas as pd\n",
    "import numpy as np\n",
    "import os\n",
    "\n",
    "import matplotlib.pyplot as plt\n",
    "import seaborn as sns"
   ]
  },
  {
   "cell_type": "code",
   "execution_count": 112,
   "metadata": {},
   "outputs": [],
   "source": [
    "def plot_format(title,xlabel,ylabel):\n",
    "    plt.title(title, fontsize=16)\n",
    "    plt.xlabel(xlabel, fontsize=14)\n",
    "    plt.ylabel(ylabel, fontsize=14)\n",
    "    plt.xticks(fontsize=10, rotation=0)\n",
    "    plt.yticks(fontsize=10)    "
   ]
  },
  {
   "cell_type": "markdown",
   "metadata": {},
   "source": [
    "# LOAD DATA"
   ]
  },
  {
   "cell_type": "markdown",
   "metadata": {},
   "source": [
    "## Origination Data"
   ]
  },
  {
   "cell_type": "code",
   "execution_count": 28,
   "metadata": {},
   "outputs": [
    {
     "name": "stdout",
     "output_type": "stream",
     "text": [
      "(91579, 30)\n"
     ]
    }
   ],
   "source": [
    "location = \"/Users/xuduo/Desktop/Notes/Python/Python Projects/Data/sample_orig_\"\n",
    "\n",
    "\n",
    "column_names=['fico', 'dt_first_pi', 'flag_fthb', 'dt_matr', 'cd_msa', \n",
    "              'mi_pct', 'cnt_units','occpy_sts', 'cltv', 'dti', \n",
    "              'orig_upb', 'ltv', 'int_rt', 'channel', 'ppmt_pnlty',\n",
    "              'prod_type', 'st', 'prop_type', 'zipcode', 'id_loan', \n",
    "              'loan_purpose','orig_loan_term', 'cnt_borr', 'seller_name', 'servicer_name', \n",
    "              'flag_sc','program_ind']\n",
    "\n",
    "def quarter(time):\n",
    "    if time == \"01\" or time == \"02\" or time == \"03\": \n",
    "        return 'Q1'\n",
    "    elif time == \"04\" or time == \"05\" or time == \"06\": \n",
    "        return 'Q2'\n",
    "    elif time == \"07\" or time == \"08\" or time == \"09\": \n",
    "        return 'Q3'\n",
    "    else:\n",
    "        return 'Q4'\n",
    "\n",
    "def read_file(y):\n",
    "    file = pd.read_csv(location + str(y) + '.txt', sep = '|', names = column_names,\n",
    "                      low_memory = False) # Some columns have mixed types -> use low_memory = False\n",
    "    file['year'] = file['dt_first_pi'].astype(str).str[:4]\n",
    "    file['month'] = file['dt_first_pi'].astype(str).str[-2:]\n",
    "    file['quarter'] = file['year'] + file['month'].apply(quarter)\n",
    "    return file[file['year'].astype(int) <= 2009]\n",
    "\n",
    "ori_2008 = read_file(2008)\n",
    "ori_2009 = read_file(2009)\n",
    "\n",
    "ori = pd.concat([ori_2008, ori_2009])\n",
    "\n",
    "ori.to_csv(\"origination_2008_2009.csv\",index=False)\n",
    "print(ori.shape)"
   ]
  },
  {
   "cell_type": "markdown",
   "metadata": {},
   "source": [
    "## Performance Data"
   ]
  },
  {
   "cell_type": "code",
   "execution_count": 29,
   "metadata": {},
   "outputs": [
    {
     "name": "stdout",
     "output_type": "stream",
     "text": [
      "(3713474, 30)\n"
     ]
    }
   ],
   "source": [
    "location = \"/Users/xuduo/Desktop/Notes/Python/Python Projects/Data/sample_svcg_\"\n",
    "\n",
    "column_names=['id_loan','Period','Act_endg_upb','delq_sts','loan_age',\n",
    "              'mths_remng','repch_flag','flag_mod','CD_Zero_BAL','Dt_zero_BAL',\n",
    "              'New_Int_rt','Amt_Non_Int_Brng_Upb','Dt_Lst_Pi','MI_Recoveries','Net_Sale_Proceed',\n",
    "              'Non_MI_Recoveries','Expenses','legal_costs','maint_pres_costs','taxes_ins_costs',\n",
    "              'misc_costs','actual_loss','modcost','stepmod_ind','dpm_ind', \n",
    "              'eltv','zb_removal_upb','dlq_acrd_int','disaster_hardship_ind','borrower_assist_flag']\n",
    "\n",
    "chuck_size = 1000 # Help loading big data -> MapReduce\n",
    "\n",
    "def read_file(y):\n",
    "    mylist = []\n",
    "    for chunk in pd.read_csv(location + str(y) + '.txt', sep = '|', names = column_names,\n",
    "                      low_memory = False, chunksize = chuck_size): # run functions in different chunks (for loop)\n",
    "        chunk = chunk[chunk['Period'] <= (y+5)*100] # Selet only 5-year performance for each loan\n",
    "        mylist.append(chunk)\n",
    "    per = pd.concat(mylist, axis = 0)\n",
    "    return per\n",
    "\n",
    "per_2008 = read_file(2008)\n",
    "per_2009 = read_file(2009)\n",
    "\n",
    "performance = pd.concat([per_2008, per_2009])\n",
    "\n",
    "performance.to_csv(\"performance_2008_2009.csv\",index=False)\n",
    "print(performance.shape)"
   ]
  },
  {
   "cell_type": "markdown",
   "metadata": {},
   "source": [
    "# PROJECT 1 – CHANGES IN MORTGAGE PORTFOLIO "
   ]
  },
  {
   "cell_type": "markdown",
   "metadata": {},
   "source": [
    "## Origination Data"
   ]
  },
  {
   "cell_type": "code",
   "execution_count": 116,
   "metadata": {},
   "outputs": [],
   "source": [
    "ori = pd.read_csv(\"origination_2008_2009.csv\",low_memory = False)"
   ]
  },
  {
   "cell_type": "code",
   "execution_count": 117,
   "metadata": {},
   "outputs": [
    {
     "name": "stdout",
     "output_type": "stream",
     "text": [
      "(91579, 30)\n",
      "<class 'pandas.core.frame.DataFrame'>\n",
      "RangeIndex: 91579 entries, 0 to 91578\n",
      "Data columns (total 30 columns):\n",
      "fico              91579 non-null int64\n",
      "dt_first_pi       91579 non-null int64\n",
      "flag_fthb         91579 non-null object\n",
      "dt_matr           91579 non-null int64\n",
      "cd_msa            77364 non-null float64\n",
      "mi_pct            91579 non-null int64\n",
      "cnt_units         91579 non-null int64\n",
      "occpy_sts         91579 non-null object\n",
      "cltv              91579 non-null int64\n",
      "dti               91579 non-null int64\n",
      "orig_upb          91579 non-null int64\n",
      "ltv               91579 non-null int64\n",
      "int_rt            91579 non-null float64\n",
      "channel           91579 non-null object\n",
      "ppmt_pnlty        90354 non-null object\n",
      "prod_type         91579 non-null object\n",
      "st                91579 non-null object\n",
      "prop_type         91579 non-null object\n",
      "zipcode           91579 non-null int64\n",
      "id_loan           91579 non-null object\n",
      "loan_purpose      91579 non-null object\n",
      "orig_loan_term    91579 non-null int64\n",
      "cnt_borr          91579 non-null int64\n",
      "seller_name       91579 non-null object\n",
      "servicer_name     91579 non-null object\n",
      "flag_sc           955 non-null object\n",
      "program_ind       91579 non-null int64\n",
      "year              91579 non-null int64\n",
      "month             91579 non-null int64\n",
      "quarter           91579 non-null object\n",
      "dtypes: float64(2), int64(15), object(13)\n",
      "memory usage: 21.0+ MB\n",
      "None\n"
     ]
    },
    {
     "data": {
      "text/html": [
       "<div>\n",
       "<style scoped>\n",
       "    .dataframe tbody tr th:only-of-type {\n",
       "        vertical-align: middle;\n",
       "    }\n",
       "\n",
       "    .dataframe tbody tr th {\n",
       "        vertical-align: top;\n",
       "    }\n",
       "\n",
       "    .dataframe thead th {\n",
       "        text-align: right;\n",
       "    }\n",
       "</style>\n",
       "<table border=\"1\" class=\"dataframe\">\n",
       "  <thead>\n",
       "    <tr style=\"text-align: right;\">\n",
       "      <th></th>\n",
       "      <th>fico</th>\n",
       "      <th>dt_first_pi</th>\n",
       "      <th>flag_fthb</th>\n",
       "      <th>dt_matr</th>\n",
       "      <th>cd_msa</th>\n",
       "      <th>mi_pct</th>\n",
       "      <th>cnt_units</th>\n",
       "      <th>occpy_sts</th>\n",
       "      <th>cltv</th>\n",
       "      <th>dti</th>\n",
       "      <th>...</th>\n",
       "      <th>loan_purpose</th>\n",
       "      <th>orig_loan_term</th>\n",
       "      <th>cnt_borr</th>\n",
       "      <th>seller_name</th>\n",
       "      <th>servicer_name</th>\n",
       "      <th>flag_sc</th>\n",
       "      <th>program_ind</th>\n",
       "      <th>year</th>\n",
       "      <th>month</th>\n",
       "      <th>quarter</th>\n",
       "    </tr>\n",
       "  </thead>\n",
       "  <tbody>\n",
       "    <tr>\n",
       "      <td>0</td>\n",
       "      <td>735</td>\n",
       "      <td>200803</td>\n",
       "      <td>N</td>\n",
       "      <td>203802</td>\n",
       "      <td>44180.0</td>\n",
       "      <td>0</td>\n",
       "      <td>1</td>\n",
       "      <td>P</td>\n",
       "      <td>87</td>\n",
       "      <td>33</td>\n",
       "      <td>...</td>\n",
       "      <td>N</td>\n",
       "      <td>360</td>\n",
       "      <td>2</td>\n",
       "      <td>Other sellers</td>\n",
       "      <td>Other servicers</td>\n",
       "      <td>NaN</td>\n",
       "      <td>9</td>\n",
       "      <td>2008</td>\n",
       "      <td>3</td>\n",
       "      <td>2008Q1</td>\n",
       "    </tr>\n",
       "    <tr>\n",
       "      <td>1</td>\n",
       "      <td>733</td>\n",
       "      <td>200803</td>\n",
       "      <td>N</td>\n",
       "      <td>203802</td>\n",
       "      <td>44180.0</td>\n",
       "      <td>0</td>\n",
       "      <td>1</td>\n",
       "      <td>P</td>\n",
       "      <td>70</td>\n",
       "      <td>29</td>\n",
       "      <td>...</td>\n",
       "      <td>C</td>\n",
       "      <td>360</td>\n",
       "      <td>2</td>\n",
       "      <td>Other sellers</td>\n",
       "      <td>Other servicers</td>\n",
       "      <td>NaN</td>\n",
       "      <td>9</td>\n",
       "      <td>2008</td>\n",
       "      <td>3</td>\n",
       "      <td>2008Q1</td>\n",
       "    </tr>\n",
       "    <tr>\n",
       "      <td>2</td>\n",
       "      <td>682</td>\n",
       "      <td>200803</td>\n",
       "      <td>Y</td>\n",
       "      <td>203802</td>\n",
       "      <td>NaN</td>\n",
       "      <td>30</td>\n",
       "      <td>1</td>\n",
       "      <td>P</td>\n",
       "      <td>93</td>\n",
       "      <td>49</td>\n",
       "      <td>...</td>\n",
       "      <td>P</td>\n",
       "      <td>360</td>\n",
       "      <td>1</td>\n",
       "      <td>Other sellers</td>\n",
       "      <td>Other servicers</td>\n",
       "      <td>NaN</td>\n",
       "      <td>9</td>\n",
       "      <td>2008</td>\n",
       "      <td>3</td>\n",
       "      <td>2008Q1</td>\n",
       "    </tr>\n",
       "  </tbody>\n",
       "</table>\n",
       "<p>3 rows × 30 columns</p>\n",
       "</div>"
      ],
      "text/plain": [
       "   fico  dt_first_pi flag_fthb  dt_matr   cd_msa  mi_pct  cnt_units occpy_sts  \\\n",
       "0   735       200803         N   203802  44180.0       0          1         P   \n",
       "1   733       200803         N   203802  44180.0       0          1         P   \n",
       "2   682       200803         Y   203802      NaN      30          1         P   \n",
       "\n",
       "   cltv  dti  ...  loan_purpose  orig_loan_term  cnt_borr    seller_name  \\\n",
       "0    87   33  ...             N             360         2  Other sellers   \n",
       "1    70   29  ...             C             360         2  Other sellers   \n",
       "2    93   49  ...             P             360         1  Other sellers   \n",
       "\n",
       "     servicer_name flag_sc program_ind  year  month quarter  \n",
       "0  Other servicers     NaN           9  2008      3  2008Q1  \n",
       "1  Other servicers     NaN           9  2008      3  2008Q1  \n",
       "2  Other servicers     NaN           9  2008      3  2008Q1  \n",
       "\n",
       "[3 rows x 30 columns]"
      ]
     },
     "execution_count": 117,
     "metadata": {},
     "output_type": "execute_result"
    }
   ],
   "source": [
    "print(ori.shape)\n",
    "print(ori.info())\n",
    "ori.head(3)"
   ]
  },
  {
   "cell_type": "code",
   "execution_count": 118,
   "metadata": {},
   "outputs": [
    {
     "data": {
      "text/plain": [
       "fico_band\n",
       "500-599    577.332542\n",
       "600-669    646.458577\n",
       "670-739    709.580829\n",
       "740-799    773.130502\n",
       "800+       828.183641\n",
       "Name: fico, dtype: float64"
      ]
     },
     "execution_count": 118,
     "metadata": {},
     "output_type": "execute_result"
    }
   ],
   "source": [
    "# Define FICO band --> format: '###-###'\n",
    "# FICO < 600 is considered subprime, FICO >= 800 is considered excellent\n",
    "# https://www.investopedia.com/terms/f/ficoscore.asp\n",
    "\n",
    "def fico_band(fico):\n",
    "    if fico < 600: \n",
    "        return '500-599'\n",
    "    elif fico < 670:\n",
    "        return '600-669'\n",
    "    elif fico < 740:\n",
    "        return '670-739'\n",
    "    elif fico < 800:\n",
    "        return '740-799'\n",
    "    else:\n",
    "        return '800+'\n",
    "\n",
    "# Create the 'fico_band'\n",
    "ori['fico_band']=ori['fico'].apply(fico_band)\n",
    "\n",
    "# Calculate the average for each fico band\n",
    "ori['fico'].groupby(ori['fico_band']).mean()"
   ]
  },
  {
   "cell_type": "markdown",
   "metadata": {},
   "source": [
    "### Hypotheses 1\n",
    "- After the financial meltdown, loans in general have high credit scores (FICO)"
   ]
  },
  {
   "cell_type": "code",
   "execution_count": 119,
   "metadata": {},
   "outputs": [
    {
     "name": "stdout",
     "output_type": "stream",
     "text": [
      "fico_band   500-599    600-669    670-739    740-799       800+\n",
      "quarter                                                        \n",
      "2008Q1     1.828273  13.026445  34.280118  43.747960   7.117205\n",
      "2008Q2     1.018699  11.073123  32.403014  45.974044   9.531119\n",
      "2008Q3     0.608243  10.044018  32.757103  46.378551  10.212085\n",
      "2008Q4     0.587434   9.066916  31.789545  47.846075  10.710029\n",
      "2009Q1     0.465280   5.495567  27.539285  54.121675  12.378193\n",
      "2009Q2     0.074372   2.461699  21.255392  59.720363  16.488175\n",
      "2009Q3     0.021555   2.414140  21.382383  58.887771  17.294151\n",
      "2009Q4     0.071505   3.360744  24.991062  57.087951  14.488738\n"
     ]
    },
    {
     "data": {
      "image/png": "[encoded data removed]",
      "text/plain": [
       "<Figure size 432x288 with 1 Axes>"
      ]
     },
     "metadata": {
      "needs_background": "light"
     },
     "output_type": "display_data"
    }
   ],
   "source": [
    "# Examine changes in credit score\n",
    "\n",
    "# Table\n",
    "credit_score = ori.groupby(['quarter', 'fico_band'])['fico'].size().groupby(level=0).apply(lambda x: x/x.sum()*100).unstack()\n",
    "# use size() instead of count() because it includes the NaN\n",
    "# groupby(level=0) -> same as groupby('quarter')\n",
    "# apply(lambda x: x/x.sum()*100) -> get the percentage for each quarter\n",
    "# unstack() -> unpivot the level of columns\n",
    "\n",
    "print(credit_score)\n",
    "\n",
    "# Plot\n",
    "credit_score.plot(kind='bar',stacked=True)\n",
    "    \n",
    "plot_format('Change in Credit Score Mix','Quarter','% of Mortgage')\n",
    "plt.legend(bbox_to_anchor=(1,1),fontsize=12)\n",
    "plt.show()"
   ]
  },
  {
   "cell_type": "markdown",
   "metadata": {},
   "source": [
    "### Hypotheses 2\n",
    "- After the financial meltdown, the portion of subprime loans (FICO < 600) decreased substantially in the mortgage portfolio.\n"
   ]
  },
  {
   "cell_type": "code",
   "execution_count": 143,
   "metadata": {},
   "outputs": [
    {
     "name": "stdout",
     "output_type": "stream",
     "text": [
      "quarter\n",
      "2008Q1    0.018283\n",
      "2008Q2    0.010187\n",
      "2008Q3    0.006082\n",
      "2008Q4    0.005874\n",
      "2009Q1    0.004653\n",
      "2009Q2    0.000744\n",
      "2009Q3    0.000216\n",
      "2009Q4    0.000715\n",
      "Name: subprime, dtype: float64\n"
     ]
    },
    {
     "data": {
      "image/png": "[encoded data removed]",
      "text/plain": [
       "<Figure size 432x288 with 1 Axes>"
      ]
     },
     "metadata": {
      "needs_background": "light"
     },
     "output_type": "display_data"
    }
   ],
   "source": [
    "# Examine change in % of subprime mortgages in portfolio\n",
    "ori['subprime']=np.where(ori['fico'] < 600, 1, 0)\n",
    "\n",
    "##### % subprime by quarter #####\n",
    "subprime = ori['subprime'].groupby(ori['quarter']).mean()\n",
    "print(subprime)\n",
    "\n",
    "subprime.plot(kind = 'bar')\n",
    "plot_format('% Subprime Loans in Portfolio','Quarter','% of Subprime Mortgage')\n",
    "plt.show()"
   ]
  },
  {
   "cell_type": "markdown",
   "metadata": {},
   "source": [
    "### Hypotheses 3\n",
    "- After the meltdown, the portion of purchases went down."
   ]
  },
  {
   "cell_type": "code",
   "execution_count": 142,
   "metadata": {},
   "outputs": [
    {
     "name": "stdout",
     "output_type": "stream",
     "text": [
      "loan_purpose          C          N          P\n",
      "quarter                                      \n",
      "2008Q1        36.761345  33.496572  29.742083\n",
      "2008Q2        38.598939  35.389339  26.011722\n",
      "2008Q3        30.044018  19.703882  50.252101\n",
      "2008Q4        28.579942  19.044781  52.375277\n",
      "2009Q1        27.714863  40.093056  32.192081\n",
      "2009Q2        30.715454  56.455451  12.829094\n",
      "2009Q3        32.131053  45.157350  22.711596\n",
      "2009Q4        31.757240  31.203075  37.039685\n"
     ]
    },
    {
     "data": {
      "image/png": "[encoded data removed]",
      "text/plain": [
       "<Figure size 432x288 with 1 Axes>"
      ]
     },
     "metadata": {
      "needs_background": "light"
     },
     "output_type": "display_data"
    }
   ],
   "source": [
    "# Examine changes in loan purpose\n",
    "loan_purpose = ori.groupby(['quarter', 'loan_purpose'])['fico'].size().groupby(level=0).apply(lambda x:100*x/x.sum()).unstack()\n",
    "\n",
    "# P -> Purchase\n",
    "# C -> Refinance – Cash Out\n",
    "# N -> Refinance – No Cash Out\n",
    "\n",
    "print(loan_purpose)\n",
    "\n",
    "loan_purpose.plot(kind='bar',stacked=True)\n",
    "plot_format('Change in Mix of Loan Purpose','Quarter','% of Mortgage')\n",
    "plt.legend(bbox_to_anchor=(1,1),fontsize=12)\n",
    "\n",
    "plt.show()"
   ]
  },
  {
   "cell_type": "code",
   "execution_count": 144,
   "metadata": {},
   "outputs": [
    {
     "name": "stdout",
     "output_type": "stream",
     "text": [
      "loan_purpose         C         N         P\n",
      "quarter                                   \n",
      "2008Q1        0.027531  0.014620  0.010977\n",
      "2008Q2        0.016631  0.005915  0.006438\n",
      "2008Q3        0.009856  0.007311  0.003344\n",
      "2008Q4        0.009830  0.007152  0.003251\n",
      "2009Q1        0.010453  0.002190  0.002727\n",
      "2009Q2        0.000726  0.000263  0.002899\n",
      "2009Q3        0.000447  0.000159  0.000000\n",
      "2009Q4        0.001126  0.001146  0.000000\n"
     ]
    },
    {
     "data": {
      "image/png": "[encoded data removed]",
      "text/plain": [
       "<Figure size 432x288 with 1 Axes>"
      ]
     },
     "metadata": {
      "needs_background": "light"
     },
     "output_type": "display_data"
    }
   ],
   "source": [
    "# Examine change in % of subprime mortgages by loan purpose\n",
    "\n",
    "subprime_loan_purpose = pd.pivot_table(ori, values='subprime', index=['quarter'], columns=['loan_purpose'], aggfunc=np.mean, margins=False)\n",
    "# same as ori.groupby(['quarter', 'loan_purpose'])['subprime'].mean().unstack()\n",
    "\n",
    "print(subprime_loan_purpose)\n",
    "subprime_loan_purpose.plot(kind = 'line')\n",
    "\n",
    "plot_format('Change in % Subprime Mortgages in All Loan Purposes','Quarter','% of Subprime Mortgage')\n",
    "plt.show()"
   ]
  },
  {
   "cell_type": "markdown",
   "metadata": {},
   "source": [
    "## Performance Data (Definition of Delinquency)"
   ]
  },
  {
   "cell_type": "code",
   "execution_count": 167,
   "metadata": {},
   "outputs": [],
   "source": [
    "per = pd.read_csv(\"performance_2008_2009.csv\",low_memory = False)"
   ]
  },
  {
   "cell_type": "code",
   "execution_count": 263,
   "metadata": {
    "scrolled": true
   },
   "outputs": [
    {
     "name": "stdout",
     "output_type": "stream",
     "text": [
      "(3407832, 32)\n"
     ]
    },
    {
     "data": {
      "text/html": [
       "<div>\n",
       "<style scoped>\n",
       "    .dataframe tbody tr th:only-of-type {\n",
       "        vertical-align: middle;\n",
       "    }\n",
       "\n",
       "    .dataframe tbody tr th {\n",
       "        vertical-align: top;\n",
       "    }\n",
       "\n",
       "    .dataframe thead th {\n",
       "        text-align: right;\n",
       "    }\n",
       "</style>\n",
       "<table border=\"1\" class=\"dataframe\">\n",
       "  <thead>\n",
       "    <tr style=\"text-align: right;\">\n",
       "      <th></th>\n",
       "      <th>id_loan</th>\n",
       "      <th>int_rt</th>\n",
       "      <th>quarter</th>\n",
       "      <th>Period</th>\n",
       "      <th>Act_endg_upb</th>\n",
       "      <th>delq_sts</th>\n",
       "      <th>loan_age</th>\n",
       "      <th>mths_remng</th>\n",
       "      <th>repch_flag</th>\n",
       "      <th>flag_mod</th>\n",
       "      <th>...</th>\n",
       "      <th>misc_costs</th>\n",
       "      <th>actual_loss</th>\n",
       "      <th>modcost</th>\n",
       "      <th>stepmod_ind</th>\n",
       "      <th>dpm_ind</th>\n",
       "      <th>eltv</th>\n",
       "      <th>zb_removal_upb</th>\n",
       "      <th>dlq_acrd_int</th>\n",
       "      <th>disaster_hardship_ind</th>\n",
       "      <th>borrower_assist_flag</th>\n",
       "    </tr>\n",
       "  </thead>\n",
       "  <tbody>\n",
       "    <tr>\n",
       "      <td>0</td>\n",
       "      <td>F108Q1000024</td>\n",
       "      <td>6.25</td>\n",
       "      <td>2008Q1</td>\n",
       "      <td>200802</td>\n",
       "      <td>192000.0</td>\n",
       "      <td>0</td>\n",
       "      <td>0</td>\n",
       "      <td>360</td>\n",
       "      <td>NaN</td>\n",
       "      <td>NaN</td>\n",
       "      <td>...</td>\n",
       "      <td>NaN</td>\n",
       "      <td>NaN</td>\n",
       "      <td>NaN</td>\n",
       "      <td>NaN</td>\n",
       "      <td>NaN</td>\n",
       "      <td>NaN</td>\n",
       "      <td>NaN</td>\n",
       "      <td>NaN</td>\n",
       "      <td>NaN</td>\n",
       "      <td>NaN</td>\n",
       "    </tr>\n",
       "    <tr>\n",
       "      <td>1</td>\n",
       "      <td>F108Q1000024</td>\n",
       "      <td>6.25</td>\n",
       "      <td>2008Q1</td>\n",
       "      <td>200803</td>\n",
       "      <td>192000.0</td>\n",
       "      <td>0</td>\n",
       "      <td>1</td>\n",
       "      <td>359</td>\n",
       "      <td>NaN</td>\n",
       "      <td>NaN</td>\n",
       "      <td>...</td>\n",
       "      <td>NaN</td>\n",
       "      <td>NaN</td>\n",
       "      <td>NaN</td>\n",
       "      <td>NaN</td>\n",
       "      <td>NaN</td>\n",
       "      <td>NaN</td>\n",
       "      <td>NaN</td>\n",
       "      <td>NaN</td>\n",
       "      <td>NaN</td>\n",
       "      <td>NaN</td>\n",
       "    </tr>\n",
       "    <tr>\n",
       "      <td>2</td>\n",
       "      <td>F108Q1000024</td>\n",
       "      <td>6.25</td>\n",
       "      <td>2008Q1</td>\n",
       "      <td>200804</td>\n",
       "      <td>191000.0</td>\n",
       "      <td>0</td>\n",
       "      <td>2</td>\n",
       "      <td>358</td>\n",
       "      <td>NaN</td>\n",
       "      <td>NaN</td>\n",
       "      <td>...</td>\n",
       "      <td>NaN</td>\n",
       "      <td>NaN</td>\n",
       "      <td>NaN</td>\n",
       "      <td>NaN</td>\n",
       "      <td>NaN</td>\n",
       "      <td>NaN</td>\n",
       "      <td>NaN</td>\n",
       "      <td>NaN</td>\n",
       "      <td>NaN</td>\n",
       "      <td>NaN</td>\n",
       "    </tr>\n",
       "  </tbody>\n",
       "</table>\n",
       "<p>3 rows × 32 columns</p>\n",
       "</div>"
      ],
      "text/plain": [
       "        id_loan  int_rt quarter  Period  Act_endg_upb delq_sts  loan_age  \\\n",
       "0  F108Q1000024    6.25  2008Q1  200802      192000.0        0         0   \n",
       "1  F108Q1000024    6.25  2008Q1  200803      192000.0        0         1   \n",
       "2  F108Q1000024    6.25  2008Q1  200804      191000.0        0         2   \n",
       "\n",
       "   mths_remng repch_flag flag_mod  ...  misc_costs  actual_loss  modcost  \\\n",
       "0         360        NaN      NaN  ...         NaN          NaN      NaN   \n",
       "1         359        NaN      NaN  ...         NaN          NaN      NaN   \n",
       "2         358        NaN      NaN  ...         NaN          NaN      NaN   \n",
       "\n",
       "   stepmod_ind  dpm_ind  eltv  zb_removal_upb  dlq_acrd_int  \\\n",
       "0          NaN      NaN   NaN             NaN           NaN   \n",
       "1          NaN      NaN   NaN             NaN           NaN   \n",
       "2          NaN      NaN   NaN             NaN           NaN   \n",
       "\n",
       "   disaster_hardship_ind  borrower_assist_flag  \n",
       "0                    NaN                   NaN  \n",
       "1                    NaN                   NaN  \n",
       "2                    NaN                   NaN  \n",
       "\n",
       "[3 rows x 32 columns]"
      ]
     },
     "execution_count": 263,
     "metadata": {},
     "output_type": "execute_result"
    }
   ],
   "source": [
    "# Add quarter and int_rt from ori\n",
    "per_deli = pd.merge(ori[['id_loan', 'int_rt','quarter']], per, how = 'inner', on = 'id_loan') \n",
    "print(per_deli.shape)\n",
    "per_deli.head(3)"
   ]
  },
  {
   "cell_type": "markdown",
   "metadata": {},
   "source": [
    "### Definition 1 & 2 :\n",
    "- A loan has reached 90+ days in delinquency\n",
    "- Balance becomes zero, with delinquency flags 90+ days"
   ]
  },
  {
   "cell_type": "code",
   "execution_count": 264,
   "metadata": {},
   "outputs": [],
   "source": [
    "### delq_sts -> Current Loan Delinquency Status\n",
    "# 0 = Current, or less than 3- days past due\n",
    "# 1 = 30-59 days delinquent\n",
    "# 2 = 60-89 days delinquent\n",
    "# 3 = 90-119 days delinquent\n",
    "# And so on…\n",
    "# R = REO Acquisition\n",
    "\n",
    "per_deli['delq_sts_num']=pd.to_numeric(per_deli['delq_sts'], errors='coerce') \n",
    "# delq_sts has both str (\"R\") and int -> Error: '>=' not supported between instances of 'str' and 'int'\n",
    "# errors = 'coerce' -> invalid parsing will be set as NaN -> remove the string \"R\"\n",
    "\n",
    "### CD_Zero_BAL -> Zero Balance Code\n",
    "# 01 = Prepaid or Matured (Voluntary Payoff)\n",
    "# 02 = Third Party Sale\n",
    "# 03 = Short Sale / Charge Off\n",
    "# 06 = Repurchase prior to Property Disposition\n",
    "# 09 = REO Disposition -> It is the same as when delq_sts == 'R'\n",
    "# 15 = Note sale / Reperforming sale\n",
    "\n",
    "per_deli.loc[(per_deli['delq_sts_num'] >= 3) | \n",
    "        (per_deli['CD_Zero_BAL'].isin(['3.0','6.0','9.0'])),'bad'] = 1\n",
    "# Create a column called 'bad' --> True = 1, False = NaN"
   ]
  },
  {
   "cell_type": "markdown",
   "metadata": {},
   "source": [
    "### Definition 3:\n",
    "- \tA loan has shown recovery amount as recovery usually comes after foreclosure and repossession by the bank (REO)"
   ]
  },
  {
   "cell_type": "code",
   "execution_count": 265,
   "metadata": {},
   "outputs": [],
   "source": [
    "# Recovery is usually associated with foreclosure and repossession.  \n",
    "# Therefore, if a loan shows recovery, it must have gone bad before. \n",
    "\n",
    "# MI -> Mortgage Insurance\n",
    "# Amt_Non_Int_Brng_Upb -> Current deferred unpaid principal balance (UPB)\n",
    "\n",
    "max_recovery = per_deli.groupby(['id_loan'])['Non_MI_Recoveries', 'MI_Recoveries', 'Amt_Non_Int_Brng_Upb'].max().reset_index()\n",
    "per_deli = pd.merge(per_deli, max_recovery, on='id_loan') # default: how = \"inner\"\n",
    "\n",
    "per_deli.loc[(per_deli['delq_sts']=='R')| # REO\n",
    "             (per_deli['Non_MI_Recoveries_y'] > 0) | (per_deli['MI_Recoveries_y'] > 0 ) | \n",
    "             (per_deli['Amt_Non_Int_Brng_Upb_y'] > 0), 'bad']=1\n",
    "# Will replace the previous 'bad' column"
   ]
  },
  {
   "cell_type": "markdown",
   "metadata": {},
   "source": [
    "### Definition 4:\n",
    "- A loan has been modified, i.e., interest rate reduction after negotiating with the bank."
   ]
  },
  {
   "cell_type": "code",
   "execution_count": 266,
   "metadata": {},
   "outputs": [],
   "source": [
    "# If the loan has experienced a decrease in interest rate, the loan has been modified.\n",
    "# A modified loan suggests the borrower has encountered financial hardship.\n",
    "\n",
    "# flag_mod -> Modification Flag\n",
    "per_deli.loc[(per_deli['flag_mod']=='Y'), 'bad']=1\n",
    "\n",
    "# per -> New_Int_rt (Current interest rate); int_rt (Original interest rate)\n",
    "min_new_int_rt = per_deli.groupby('id_loan')[['New_Int_rt']].min().reset_index()\n",
    "per_deli = pd.merge(per_deli, min_new_int_rt, on='id_loan')\n",
    "\n",
    "per_deli.loc[per_deli['New_Int_rt_y'] < per_deli['int_rt'], 'bad'] = 1"
   ]
  },
  {
   "cell_type": "code",
   "execution_count": 267,
   "metadata": {},
   "outputs": [
    {
     "name": "stdout",
     "output_type": "stream",
     "text": [
      "quarter\n",
      "2008Q1    0.091530\n",
      "2008Q2    0.069314\n",
      "2008Q3    0.071388\n",
      "2008Q4    0.063545\n",
      "2009Q1    0.026894\n",
      "2009Q2    0.006621\n",
      "2009Q3    0.005480\n",
      "2009Q4    0.005763\n",
      "Name: deli, dtype: float64\n"
     ]
    },
    {
     "data": {
      "image/png": "[encoded data removed]",
      "text/plain": [
       "<Figure size 432x288 with 1 Axes>"
      ]
     },
     "metadata": {
      "needs_background": "light"
     },
     "output_type": "display_data"
    }
   ],
   "source": [
    "per_deli['deli']=np.where((per_deli['bad'] > 0), 1, 0)\n",
    "\n",
    "delinquency_rate = per_deli['deli'].groupby(per_deli['quarter']).mean()\n",
    "\n",
    "print(delinquency_rate)\n",
    "delinquency_rate.plot(kind='line', color='red')\n",
    "\n",
    "plot_format('Change in Delinquency Rate','Quarter','Delinquency Rate')\n",
    "plt.show()"
   ]
  },
  {
   "cell_type": "code",
   "execution_count": 268,
   "metadata": {},
   "outputs": [
    {
     "name": "stdout",
     "output_type": "stream",
     "text": [
      "<class 'pandas.core.frame.DataFrame'>\n",
      "Int64Index: 3407832 entries, 0 to 3407831\n",
      "Data columns (total 63 columns):\n",
      "fico                     int64\n",
      "dt_first_pi              int64\n",
      "flag_fthb                object\n",
      "dt_matr                  int64\n",
      "cd_msa                   float64\n",
      "mi_pct                   int64\n",
      "cnt_units                int64\n",
      "occpy_sts                object\n",
      "cltv                     int64\n",
      "dti                      int64\n",
      "orig_upb                 int64\n",
      "ltv                      int64\n",
      "int_rt                   float64\n",
      "channel                  object\n",
      "ppmt_pnlty               object\n",
      "prod_type                object\n",
      "st                       object\n",
      "prop_type                object\n",
      "zipcode                  int64\n",
      "id_loan                  object\n",
      "loan_purpose             object\n",
      "orig_loan_term           int64\n",
      "cnt_borr                 int64\n",
      "seller_name              object\n",
      "servicer_name            object\n",
      "flag_sc                  object\n",
      "program_ind              int64\n",
      "year                     int64\n",
      "month                    int64\n",
      "quarter                  object\n",
      "fico_band                object\n",
      "subprime                 int64\n",
      "Period                   int64\n",
      "Act_endg_upb             float64\n",
      "delq_sts                 object\n",
      "loan_age                 int64\n",
      "mths_remng               int64\n",
      "repch_flag               object\n",
      "flag_mod                 object\n",
      "CD_Zero_BAL              float64\n",
      "Dt_zero_BAL              float64\n",
      "New_Int_rt               float64\n",
      "Amt_Non_Int_Brng_Upb     float64\n",
      "Dt_Lst_Pi                float64\n",
      "MI_Recoveries            float64\n",
      "Net_Sale_Proceed         float64\n",
      "Non_MI_Recoveries        float64\n",
      "Expenses                 float64\n",
      "legal_costs              float64\n",
      "maint_pres_costs         float64\n",
      "taxes_ins_costs          float64\n",
      "misc_costs               float64\n",
      "actual_loss              float64\n",
      "modcost                  float64\n",
      "stepmod_ind              object\n",
      "dpm_ind                  float64\n",
      "eltv                     float64\n",
      "zb_removal_upb           float64\n",
      "dlq_acrd_int             float64\n",
      "disaster_hardship_ind    float64\n",
      "borrower_assist_flag     float64\n",
      "delq_sts_num             float64\n",
      "deli                     int64\n",
      "dtypes: float64(25), int64(20), object(18)\n",
      "memory usage: 1.6+ GB\n"
     ]
    }
   ],
   "source": [
    "per_deli2 = per_deli.drop(['Non_MI_Recoveries_y','MI_Recoveries_y','Amt_Non_Int_Brng_Upb_y','New_Int_rt_y','bad'], axis=1)\n",
    "per_deli2 = per_deli2.rename(columns={'Non_MI_Recoveries_x':'Non_MI_Recoveries','MI_Recoveries_x':'MI_Recoveries','Amt_Non_Int_Brng_Upb_x':'Amt_Non_Int_Brng_Upb','New_Int_rt_x':'New_Int_rt'})\n",
    "ori_per_deli = pd.merge(ori, per_deli2.drop(['quarter','int_rt'],axis=1), how = \"inner\", on = \"id_loan\")\n",
    "ori_per_deli.info()"
   ]
  },
  {
   "cell_type": "code",
   "execution_count": 269,
   "metadata": {},
   "outputs": [
    {
     "name": "stdout",
     "output_type": "stream",
     "text": [
      "(3407832, 63)\n",
      "123762\n",
      "0.036316931116322636\n"
     ]
    }
   ],
   "source": [
    "print(ori_per_deli.shape)\n",
    "print(ori_per_deli['deli'].sum())\n",
    "print(ori_per_deli['deli'].mean())"
   ]
  }
 ],
 "metadata": {
  "kernelspec": {
   "display_name": "Python 3",
   "language": "python",
   "name": "python3"
  },
  "language_info": {
   "codemirror_mode": {
    "name": "ipython",
    "version": 3
   },
   "file_extension": ".py",
   "mimetype": "text/x-python",
   "name": "python",
   "nbconvert_exporter": "python",
   "pygments_lexer": "ipython3",
   "version": "3.7.4"
  }
 },
 "nbformat": 4,
 "nbformat_minor": 2
}
